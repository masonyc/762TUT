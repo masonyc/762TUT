{
 "cells": [
  {
   "cell_type": "markdown",
   "id": "fd85e653",
   "metadata": {},
   "source": [
    "# Q1.1 Explain how entropy is calculated\n",
    "\n",
    "A: entropy is calculated by the negative sum of each probability of all the possible classes times the log2 of that particular probability.\n"
   ]
  },
  {
   "cell_type": "markdown",
   "id": "487ad57e",
   "metadata": {
    "pycharm": {
     "name": "#%% md\n"
    }
   },
   "source": [
    "# Q1.2 What do Entropy = 1 and Entropy = 0 mean?\n",
    "Entropy = 0 = very certain\n",
    "Entropy = 1 = 100% uncertain in binary case"
   ]
  },
  {
   "cell_type": "markdown",
   "id": "dd01c0df",
   "metadata": {
    "pycharm": {
     "name": "#%% md\n"
    }
   },
   "source": [
    "# Q1.3 Explain what overfifit and underfifit are, and how they relate to decision tree pruning.\n",
    "Underfitting happens when it cannot capture the underlying trend of the data. Our model does not fit the data well enough, especially when we have fewer data to build an accurate model. And the bias is high because it is less likely to fit data well.\n",
    "(E.g simple model with insufficient number of training data)\n",
    "\n",
    "Overfitting happens when a model completely fits the training data but fails to generalise the testing unseen data. Overfit conditions arise when the model memorises the noise of the training data but fails to capture import patterns. Even the bias is low because it is very likely to fit data well, but the variance is high.\n",
    "(e.g complex model with large amount of training data )\n",
    "\n",
    "A decision tree that is constructed to its full depth can be overfit as it will capture insignificant patterns. Pre-pruning technique refers to the early stopping of the growth of the decision tree to prevent overfit. Post-pruning technique allows the decision tree model to grow to its full depth then remove the tree branches to prevent overfit.(Cost Complexity Pruning is one of the technique where it trains the tree first and do a cost complexity analysis then select the best alpha value to retrain the tree)\n",
    "\n",
    "If the decision tree is too shallow, it may lead to underfit. Same as a simple model with insufficient data.\n"
   ]
  },
  {
   "cell_type": "markdown",
   "id": "50b972c8",
   "metadata": {
    "pycharm": {
     "name": "#%% md\n"
    }
   },
   "source": [
    "# Q1.4 What is the effect of different size decision tree? What will be the difference in performance? Which are going to be more likely to underfit? Which are going to be more likely to overfit?\n",
    "- (a) R0 – the baseline rule, just using Y\n",
    "  Underfitting\n",
    "\n",
    "- (b) R1 – just using 1 variable\n",
    "  Ideal for a small dataset that doesn't have many branches. Underfitting for large dataset.\n",
    "\n",
    "- (c) a pruned tree\n",
    "  Ideal if the dataset is large. Otherwise underfitting with small dataset (shallow tree)\n",
    "\n",
    "- (d) an unpruned tree.\n",
    "  Probably okay for small/medium dataset. Overfitting for large dataset due to edge cases trained in model.\n",
    "\n"
   ]
  },
  {
   "cell_type": "code",
   "execution_count": 1,
   "id": "5193e084",
   "metadata": {
    "pycharm": {
     "name": "#%%\n"
    }
   },
   "outputs": [],
   "source": [
    "import os\n",
    "\n",
    "import numpy as np\n",
    "from sklearn import tree\n",
    "from sklearn.tree import DecisionTreeClassifier\n",
    "from sklearn import datasets\n",
    "from sklearn.model_selection import train_test_split\n",
    "import matplotlib.pyplot as plt"
   ]
  },
  {
   "cell_type": "markdown",
   "id": "32365671",
   "metadata": {
    "pycharm": {
     "name": "#%% md\n"
    }
   },
   "source": [
    "# Q2.1 Give a decision tree for the following Boolean function using information gain and entropy:\n",
    "# A ∨(B ∧C)\n",
    "## Q2.1.1 Create a table with all combinations;\n",
    "![Alt text](./Q2.1_Table.png)"
   ]
  },
  {
   "cell_type": "markdown",
   "id": "72fda5b0",
   "metadata": {
    "pycharm": {
     "name": "#%% md\n"
    }
   },
   "source": [
    "## Q2.1.2 Compute the root entropy without any prior;\n",
    "\n",
    "P(Y=1) = ⅝\n",
    "\n",
    "P(Y=0)= ⅜\n",
    "\n",
    "Root Entropy: H(Y) = -P(Y=1) log (P(Y=1)) -P(Y=0) log (P(Y=0))\n",
    "\t\t        = -⅝ log(⅝) -  ⅜ log(⅜)\n",
    "\t\t        = -⅝ * (-0.6781) - ⅜ * (-1.415)\n",
    "\t\t        = 0.9544375\n",
    "\n",
    "Note: log above has base of 2\n"
   ]
  },
  {
   "cell_type": "markdown",
   "id": "e2a2d8ae",
   "metadata": {
    "pycharm": {
     "name": "#%% md\n"
    }
   },
   "source": [
    "## Q2.1.3 Find the decision stump with the best score\n",
    "P(Y=1 | A=1) = 4/4\\\n",
    "P(Y=1 | A=0) = 1/4\n",
    "\n",
    "H(Y | A=1) = -P(Y=1 | A=1) log (P(Y=1 | A=1)) -P(Y=0 | A=1) log (P(Y=0 | A=1))\\\n",
    "\t       = -1 log (1) - 0 log (0)\\\n",
    "           = -1 * 0 - 0\\\n",
    "           = 0\n",
    "\n",
    "H(Y | A=0) = -P(Y=1 | A=0) log (P(Y=1 | A=0)) -P(Y=0 | A=0) log (P(Y=0 | A=0))\\\n",
    "\t       = -¼  log (¼ ) - ¾  log (¾)\\\n",
    "           = -¼ * (-2) - ¾ * (-0.415)\\\n",
    "           = 0.81125\n",
    "\n",
    "IG(Y | A)  = H(Y) - P(A=1) H(Y | A=1)  - P(A=0) H(Y | A=0)\\\n",
    "           = 0.9544375 - 4/8 * 0 - 4/8 * 0.81125\\\n",
    "           = 0.5488125\n",
    "       \n",
    "—---------------—---------------—---------------—--------------\n",
    "\n",
    "P(Y=1 | B=1) = 3/4           \\\n",
    "P(Y=1 | B=0) = 1/2\n",
    "\n",
    "H(Y | B=1) = -P(Y=1 | B=1) log (P(Y=1 | B=1)) -P(Y=0 | B=1) log (P(Y=0 | B=1))\\\n",
    "\t       = -¾  log (¾ ) - ¼   log (¼ )\\\n",
    "           = -¾  * (-0.415) - ¼  * (-2)\\\n",
    "           = 0.81125\n",
    "\n",
    "H(Y | B=0) = -P(Y=1 | B=0) log (P(Y=1 | B=0)) -P(Y=0 | B=0) log (P(Y=0 | B=0))\\\n",
    "\t       = -½  log (½ ) - ½   log (½ )\\\n",
    "           = -½  * (-1) - ½  * (-1)\\\n",
    "           = 1\n",
    "\n",
    "IG(Y | B) = H(Y) - P(B=1) H(Y | B=1)  - P(B=0) H(Y | B=0)\\\n",
    "          = 0.9544375 - 4/8 * 0.81125 - 2/8 * 1\\\n",
    "\t      = 0.2988125\n",
    "              \n",
    "—---------------—---------------—---------------—--------------\n",
    "\n",
    "\n",
    "P(Y=1 | C=1) = 3/4             \\\n",
    "P(Y=1 | C=0) = 1/2\n",
    "\n",
    "H(Y | C=1) = -P(Y=1 | C=1) log (P(Y=1 | C=1)) -P(Y=0 | C=1) log (P(Y=0 | C=1))\\\n",
    "\t       = -¾  log (¾  ) - ¼   log (¼ )\\\n",
    "           = -¾  * (-0.415) - ¼  * (-2)\n",
    "           = 0.81125\n",
    "           \n",
    "H(Y | C=0) = -P(Y=1 | C=0) log (P(Y=1 | C=0)) -P(Y=0 | C=0) log (P(Y=0 | C=0))\\\n",
    "\t       = -½  log (½ ) - ½   log (½ )\\\n",
    "           = -½  * (-1) - ½  * (-1)\\\n",
    "           = 1\n",
    "\n",
    "IG(Y | C)  = H(Y) - P(C=1) H(Y | C=1)  - P(C=0) H(Y | C=0)\\\n",
    "           = 0.9544375 - 4/8 * 0.81125 - 2/8 * 1\\\n",
    "           = 0.2988125\n"
   ]
  },
  {
   "cell_type": "markdown",
   "id": "fb999e5b",
   "metadata": {
    "pycharm": {
     "name": "#%% md\n"
    }
   },
   "source": [
    "## Q2.1.4 Split into two subsets based on the stump;\n",
    "Split on A = 1, highest IG 0.5488125"
   ]
  },
  {
   "cell_type": "markdown",
   "id": "691e7e10",
   "metadata": {
    "pycharm": {
     "name": "#%% md\n"
    }
   },
   "source": [
    "## Q2.1.5 Keep finding the next decision stump until you obtain the complete decision tree.\n",
    "After splitting on A, choose either B or C. They have the same information gain.\n",
    "\n",
    "P(Y=1) = 1/4\\\n",
    "P(Y=0)= 3/4\n",
    "\n",
    "Root Entropy 2: H(Y) = -P(Y=1) log (P(Y=1)) -P(Y=0) log (P(Y=0))\\\n",
    "= -¾  * (-0.415) - ¼  * (-2)\\\n",
    "= 0.81125       \n",
    "\n",
    "—---------------—---------------—---------------—--------------\n",
    "\n",
    "\n",
    "P(Y=1 | B=1) = 1/2\\\n",
    "P(Y=1 | B=0) = 0\n",
    "\n",
    "H(Y | B=1) = -P(Y=1 | B=1) log (P(Y=1 | B=1)) -P(Y=0 | B=1) log (P(Y=0 | B=1))\\\n",
    "      = -½  log (½ ) - ½   log (½ )\\\n",
    "      = -½  * (-1) - ½  * (-1)\\\n",
    "      = 1\n",
    "\n",
    "H(Y | B=0) = -P(Y=1 | B=0) log (P(Y=1 | B=0)) -P(Y=0 | B=0) log (P(Y=0 | B=0))\\\n",
    "\t      = 0 - 1   log (1 )\\\n",
    "          = 0\n",
    "IG(Y | B) = H(Y) - P(B=1) H(Y | B=1)  - P(B=0) H(Y | B=0)\\\n",
    "\t   = 0.81125 - 2/4 * 1 - 0\\\n",
    "\t   = 0.31125\n",
    "              \n",
    "—---------------—---------------—---------------—--------------\n",
    "\n",
    "\n",
    "\n",
    "P(Y=1 | C=1) = 1/2\\\n",
    "P(Y=1 | C=0) = 0\n",
    "\n",
    "H(Y | C=1) = -P(Y=1 | C=1) log (P(Y=1 | C=1)) -P(Y=0 | C=1) log (P(Y=0 | C=1))\\\n",
    "      = -½  log (½ ) - ½   log (½ )\\\n",
    "      = -½  * (-1) - ½  * (-1)\\\n",
    "      = 1\n",
    "\n",
    "H(Y | C=0) = -P(Y=1 | C=0) log (P(Y=1 | C=0)) -P(Y=0 | C=0) log (P(Y=0 | C=0))\\\n",
    "\t       = 0 - 1   log (1 )\\\n",
    "           = 0\n",
    "           \n",
    "IG(Y | C) = H(Y) - P(C=1) H(Y | C=1)  - P(C=0) H(Y | C=0)\\\n",
    "\t      = 0.81125 - 2/4 * 1 - 0\\\n",
    "\t      = 0.31125\n",
    "\n",
    "![Alt text](./Q2.1.5_Table.png)\n"
   ]
  },
  {
   "cell_type": "markdown",
   "id": "6cae29c6",
   "metadata": {
    "pycharm": {
     "name": "#%% md\n"
    }
   },
   "source": [
    "# Q2.2 Answer the question above using the DecisionTreeClassifier method from sklearn. Plot the decision tree and compare it with your result."
   ]
  },
  {
   "cell_type": "code",
   "execution_count": 2,
   "id": "d6e60701",
   "metadata": {},
   "outputs": [],
   "source": [
    "X = np.array([\n",
    "    [0, 0, 0],\n",
    "    [0, 0, 1],\n",
    "    [0, 1, 0],\n",
    "    [0, 1, 1],\n",
    "    [1, 0, 0],\n",
    "    [1, 0, 1],\n",
    "    [1, 1, 0],\n",
    "    [1, 1, 1]\n",
    "])\n",
    "\n",
    "y = np.array([0, 0, 0, 1, 1, 1, 1, 1])"
   ]
  },
  {
   "cell_type": "code",
   "execution_count": 3,
   "id": "8df000d7",
   "metadata": {},
   "outputs": [
    {
     "data": {
      "text/plain": [
       "DecisionTreeClassifier(criterion='entropy', random_state=1024)"
      ]
     },
     "execution_count": 3,
     "metadata": {},
     "output_type": "execute_result"
    }
   ],
   "source": [
    "model = DecisionTreeClassifier(criterion='entropy', random_state=1024)\n",
    "model.fit(X, y)"
   ]
  },
  {
   "cell_type": "code",
   "execution_count": 4,
   "id": "9a433355",
   "metadata": {},
   "outputs": [
    {
     "data": {
      "image/png": "[encoded data removed]",
      "text/plain": [
       "<Figure size 432x288 with 1 Axes>"
      ]
     },
     "metadata": {
      "needs_background": "light"
     },
     "output_type": "display_data"
    }
   ],
   "source": [
    "tree.plot_tree(model)\n",
    "plt.tight_layout()"
   ]
  },
  {
   "cell_type": "markdown",
   "id": "95269578",
   "metadata": {
    "pycharm": {
     "name": "#%% md\n"
    }
   },
   "source": [
    "# Q3.1 Make a decision tree by hand\n",
    "![Alt text](./Q3.1_Table.png)"
   ]
  },
  {
   "cell_type": "markdown",
   "id": "2ca7b533",
   "metadata": {
    "pycharm": {
     "name": "#%% md\n"
    }
   },
   "source": [
    "# Q3.1 Calculations\n",
    "![Alt text](./Q3.1.1_Table.png)\n",
    "\n",
    "P(Y=1) = 3/6\\\n",
    "P(Y=0)= 3/6\n",
    "\n",
    "Root Entropy: H(Y) = -P(Y=1) log (P(Y=1)) -P(Y=0) log (P(Y=0))\\\n",
    "\t\t        = -3/6 log(3/6) -  3/6 log(3/6)\\\n",
    "\t\t        = -3/6 * (-1) - 3/6 * (-1)\\\n",
    "\t\t        = 1\n",
    "                \n",
    "—---------------—---------------—---------------—-\n",
    "\n",
    "P(Y=1 | Color=1) = 1/1\\\n",
    "P(Y=1 | Color=0) = 2/5\n",
    "\n",
    "H(Y | Color=1) = -P(Y=1 | Color=1) log (P(Y=1 | Color=1)) -P(Y=0 | Color=1) log (P(Y=0 | Color=1))\\\n",
    "               = -1 log (1) - 0 log (0)\\\n",
    "               = -1 * 0 - 0\\\n",
    "               = 0\n",
    "\n",
    "H(Y | Color=0) = -P(Y=1 | Color=0) log (P(Y=1 | Color=0)) -P(Y=0 | Color=0) log (P(Y=0 | Color=0))\\\n",
    "              = -⅖   log (⅖  ) - ⅗   log (⅗)\\\n",
    "              = -⅖  * (-1.322) - ⅗  * (-0.737)\\\n",
    "              = 0.971\n",
    "\n",
    "IG(Y | Color) = H(Y) - P(Color=1) H(Y | Color=1)  - P(Color=0) H(Y | Color=0)\\\n",
    "\t   = 1 - 1/6 * 0 - 5/6 * 0.971\\\n",
    "\t   = 0.1908333\n",
    "       \n",
    "—---------------—---------------—---------------—-\n",
    "\n",
    "\n",
    "P(Y=1 | Length=1) = 2/3\\\n",
    "P(Y=1 | Length=0) = 1/3\n",
    "\n",
    "H(Y | Length=1) = -P(Y=1 | Length=1) log (P(Y=1 | Length=1)) -P(Y=0 | Length=1) log (P(Y=0 | Length=1))\\\n",
    "              = -⅔  log (⅔ ) -⅓  log (⅓ )\\\n",
    "              = -⅔  * -0.585 - ⅓ *(-1.585)\\\n",
    "              = 0.91833333\n",
    "\n",
    "H(Y | Length=0) = -P(Y=1 | Length=0) log (P(Y=1 | Length=0)) -P(Y=0 | Length=0) log (P(Y=0 | Length=0))\\\n",
    "              = -⅓  log (⅓ ) - ⅔ log (⅔ )\\\n",
    "              = -⅓  * (-1.585) - ⅔   * (-0.585)\\\n",
    "              = 0.91833333\n",
    "\n",
    "IG(Y | Length) = H(Y) - P(Length=1) H(Y | Length=1)  - P(Length=0) H(Y | Length=0)\\\n",
    "               = 1 - 3/6 * 0.91833333 - 3/6 * 0.91833333\\\n",
    "               = 0.08166667\n",
    "               \n",
    "—---------------—---------------—---------------—-\n",
    "\n",
    "P(Y=1 | Size=1) = 1/2\\\n",
    "P(Y=1 | Size=0) = 2/4\n",
    "\n",
    "H(Y | Size=1) = -P(Y=1 | Size=1) log (P(Y=1 | Size=1)) -P(Y=0 | Size=1) log (P(Y=0 | Size=1))\\\n",
    "              = -½  log (½ ) - ½   log (½ )\\\n",
    "              = -½  * (-1) - ½  * (-1)\\\n",
    "              = 1\n",
    "\n",
    "H(Y | Size=0) = -P(Y=1 | Size=0) log (P(Y=1 | Size=0)) -P(Y=0 | Size=0) log (P(Y=0 | Size=0))\\\n",
    "              = -½  log (½ ) - ½   log (½ )\\\n",
    "              = -½  * (-1) - ½  * (-1)\\\n",
    "              = 1\n",
    "\n",
    "IG(Y | Size) = H(Y) - P(Size=1) H(Y | Size=1)  - P(Size=0) H(Y | Size=0)\\\n",
    "           = 1 - 2/6 * 1 - 4/6 * 1\\\n",
    "           = 0\n",
    "           \n",
    "—---------------—---------------—---------------—-\n",
    "\n",
    "P(Y=1 | Brightness=1) = 1/1\\\n",
    "P(Y=1 | Brightness=0) = 2/5\n",
    "\n",
    "H(Y | Brightness=1) = -P(Y=1 | Brightness=1) log (P(Y=1 | Brightness=1)) -P(Y=0 | Brightness=1) log (P(Y=0 | Brightness=1))\\\n",
    "\t      = -1  log (1 ) - 0   log (0 )\\\n",
    "          = 0\n",
    "\n",
    "H(Y | Brightness=0) = -P(Y=1 | Brightness=0) log (P(Y=1 | Brightness=0)) -P(Y=0 | Brightness=0) log (P(Y=0 | Brightness=0))\\\n",
    "\t      = -⅖  log (⅖  ) - ⅗   log (⅗ )\\\n",
    "          = -⅖   * (-1.322) - ⅗   * (-0.737)\\\n",
    "          = 0.971\n",
    "\n",
    "\n",
    "IG(Y | Brightness) = H(Y) - P(Brightness=1) H(Y | Brightness=1)  - P(Brightness=0) H(Y | Brightness=0)\\\n",
    "\t   = 1 - 1/6 * 0 - 5/6 * 0.971\\\n",
    "\t   = 0.1908333\n",
    "       \n",
    "—---------------—---------------—---------------—-\n",
    "\n",
    "P(Y=1 | Shape=1) = 2/2\\\n",
    "P(Y=1 | Shape=0) = 1/4\n",
    "\n",
    "H(Y | Shape=1) = -P(Y=1 | Shape=1) log (P(Y=1 | Shape=1)) -P(Y=0 | Shape=1) log (P(Y=0 | Shape=1))\\\n",
    "\t      = -1  log (1 ) - 0   log (0 )\\\n",
    "          = 0\n",
    "\n",
    "H(Y | Shape=0) = -P(Y=1 | Shape=0) log (P(Y=1 | Shape=0)) -P(Y=0 | Shape=0) log (P(Y=0 | Shape=0))\\\n",
    "\t      = -¼   log (¼ ) - ¾  log (¾  )\\\n",
    "          = -¼   * (-2) - ¾   * (-0.415)\\\n",
    "          = 0.81125\n",
    "\n",
    "IG(Y | Shape) = H(Y) - P(Shape=1) H(Y | Shape=1)  - P(Shape=0) H(Y | Shape=0)\\\n",
    "           = 1 - 2/6 * 0 - 4/6 * 0.81125\\\n",
    "           = 0.45916667\n",
    "\n",
    "—-------------Pick Shape as first branch as higher IG-----------\n",
    "\n",
    "P(Y=1) = 1/4\\\n",
    "P(Y=0)= 3/4\n",
    "\n",
    "Root Entropy 2 : H(Y) = -P(Y=1) log (P(Y=1)) -P(Y=0) log (P(Y=0))\\\n",
    "                      = -¼  log (¼ ) - ¾  log (¾)\\\n",
    "                      = -¼ * (-2) - ¾ * (-0.415)\\\n",
    "                      = 0.81125\n",
    "                      \n",
    "—---------------—---------------—---------------—-\n",
    "\n",
    "P(Y=1 | Color=1) = 1/1\\\n",
    "P(Y=1 | Color=0) = 0\n",
    "\n",
    "H(Y | Color=1) = -P(Y=1 | Color=1) log (P(Y=1 | Color=1)) -P(Y=0 | Color=1) log (P(Y=0 | Color=1))\\\n",
    "\t      = -1 log (1) - 0 log (0)\\\n",
    "          = -1 * 0 - 0\\\n",
    "          = 0\n",
    "\n",
    "H(Y | Color=0) = -P(Y=1 | Color=0) log (P(Y=1 | Color=0)) -P(Y=0 | Color=0) log (P(Y=0 | Color=0))\\\n",
    "              = 0 - 1 log(1)\\\n",
    "              = 0 - 0\\\n",
    "              = 0\n",
    "\n",
    "IG(Y | Color) = H(Y) - P(Color=1) H(Y | Color=1)  - P(Color=0) H(Y | Color=0)\\\n",
    "\t   = 0.81125 - 0 - 0\\\n",
    "\t   = 0.81125\n",
    "       \n",
    "—---------------—---------------—---------------—-\n",
    "\n",
    "\n",
    "P(Y=1 | Length=1) = 1/2\\\n",
    "P(Y=1 | Length=0) = 0\n",
    "\n",
    "H(Y | Length=1) = -P(Y=1 | Length=1) log (P(Y=1 | Length=1)) -P(Y=0 | Length=1) log (P(Y=0 | Length=1))\\\n",
    "                = -½   log (½) -½  log (½ )\\\n",
    "                = 1\n",
    "\n",
    "H(Y | Length=0) = -P(Y=1 | Length=0) log (P(Y=1 | Length=0)) -P(Y=0 | Length=0) log (P(Y=0 | Length=0))\\\n",
    "              = 0\n",
    "\n",
    "IG(Y | Length) = H(Y) - P(Length=1) H(Y | Length=1)  - P(Length=0) H(Y | Length=0)\\\n",
    "\t   = 0.81125 - 2/4 - 0\\\n",
    "\t   = 0.31125\n",
    "       \n",
    "—---------------—---------------—---------------—-\n",
    "\n",
    "P(Y=1 | Size=1) = 0\\\n",
    "P(Y=1 | Size=0) = 1/3\n",
    "\n",
    "H(Y | Size=1) = -P(Y=1 | Size=1) log (P(Y=1 | Size=1)) -P(Y=0 | Size=1) log (P(Y=0 | Size=1))\\\n",
    "              = -0 - 1/1   log (1/1)\\\n",
    "              = 0\n",
    "\n",
    "H(Y | Size=0) = -P(Y=1 | Size=0) log (P(Y=1 | Size=0)) -P(Y=0 | Size=0) log (P(Y=0 | Size=0))\\\n",
    "              = -⅓   log (⅓  ) - ⅔    log (⅔  )\\\n",
    "              = -⅓   * (-1.585) - ⅔   * (-0.585)\\\n",
    "          = 0.9183333\n",
    "\n",
    "IG(Y | Size) = H(Y) - P(Size=1) H(Y | Size=1)  - P(Size=0) H(Y | Size=0)\\\n",
    "\t   = 0.81125 - 1/4 * 0.9183333  - 0\\\n",
    "\t   = 0.58166668\n",
    "       \n",
    "—---------------—---------------—---------------—-\n",
    "\n",
    "P(Y=1 | Brightness=1) = 0\\\n",
    "P(Y=1 | Brightness=0) = 1/4\n",
    "\n",
    "H(Y | Brightness=1) = -P(Y=1 | Brightness=1) log (P(Y=1 | Brightness=1)) -P(Y=0 | Brightness=1) log (P(Y=0 | Brightness=1))\\\n",
    "\t      = 0\n",
    "\n",
    "H(Y | Brightness=0) = -P(Y=1 | Brightness=0) log (P(Y=1 | Brightness=0)) -P(Y=0 | Brightness=0) log (P(Y=0 | Brightness=0))\\\n",
    "\t      = -¼   log (¼ ) - ¾  log (¾  )\\\n",
    "          = -¼   * (-2) - ¾   * (-0.415)\\\n",
    "          = 0.81125\n",
    "\n",
    "\n",
    "IG(Y | Brightness) = H(Y) - P(Brightness=1) H(Y | Brightness=1)  - P(Brightness=0) H(Y | Brightness=0)\\\n",
    "\t   = 0.81125 - 0 - 4/6 * 0.81125\\\n",
    "\t   = 0.2704\n",
    "\n"
   ]
  },
  {
   "cell_type": "markdown",
   "id": "63b787cf",
   "metadata": {
    "pycharm": {
     "name": "#%% md\n"
    }
   },
   "source": [
    "# Q3.2 Code"
   ]
  },
  {
   "cell_type": "code",
   "execution_count": 5,
   "id": "38fde475",
   "metadata": {},
   "outputs": [
    {
     "data": {
      "text/plain": [
       "DecisionTreeClassifier(criterion='entropy', random_state=1024)"
      ]
     },
     "execution_count": 5,
     "metadata": {},
     "output_type": "execute_result"
    }
   ],
   "source": [
    "#Q3\n",
    "X = np.array([\n",
    "    [0, 0, 0, 0, 0],\n",
    "    [0, 0, 1, 0, 1],\n",
    "    [0, 0, 1, 0, 0],\n",
    "    [0, 1, 0, 1, 1],\n",
    "    [0, 1, 0, 0, 0],\n",
    "    [1, 1, 0, 0, 0]\n",
    "])\n",
    "\n",
    "y = np.array([0, 1, 0, 1, 0, 1])\n",
    "\n",
    "model = DecisionTreeClassifier(criterion='entropy', random_state=1024)\n",
    "model.fit(X, y)"
   ]
  },
  {
   "cell_type": "code",
   "execution_count": 6,
   "id": "f7f0a71c",
   "metadata": {
    "pycharm": {
     "name": "#%%\n"
    }
   },
   "outputs": [
    {
     "data": {
      "image/png": "[encoded data removed]",
      "text/plain": [
       "<Figure size 432x288 with 1 Axes>"
      ]
     },
     "metadata": {
      "needs_background": "light"
     },
     "output_type": "display_data"
    }
   ],
   "source": [
    "tree.plot_tree(model,feature_names=['Color','Length','Size','Brightness','Shape'])\n",
    "plt.tight_layout()"
   ]
  }
 ],
 "metadata": {
  "kernelspec": {
   "display_name": "Python 3 (ipykernel)",
   "language": "python",
   "name": "python3"
  },
  "language_info": {
   "codemirror_mode": {
    "name": "ipython",
    "version": 3
   },
   "file_extension": ".py",
   "mimetype": "text/x-python",
   "name": "python",
   "nbconvert_exporter": "python",
   "pygments_lexer": "ipython3",
   "version": "3.9.10"
  }
 },
 "nbformat": 4,
 "nbformat_minor": 5
}